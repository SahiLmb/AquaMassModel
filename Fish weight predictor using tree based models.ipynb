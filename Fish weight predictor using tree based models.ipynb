{
 "cells": [
  {
   "cell_type": "markdown",
   "id": "3e319ab0",
   "metadata": {},
   "source": [
    "# Fish weight prediciton using Regression Analysis \n",
    "- Building an ML Regression Model Using the Tree-based Algorithms (Decision Tree, Random Forest, XGboost)"
   ]
  },
  {
   "cell_type": "markdown",
   "id": "9e52d2b4",
   "metadata": {},
   "source": [
    "### 1. Importing libraries and collecting data"
   ]
  },
  {
   "cell_type": "code",
   "execution_count": 1,
   "id": "d17d4e49",
   "metadata": {},
   "outputs": [],
   "source": [
    "import pandas as pd\n",
    "import seaborn as sns\n",
    "import matplotlib.pyplot as plt\n",
    "from itertools import combinations\n",
    "import numpy as np\n",
    "data = pd.read_csv(\"~\\Fish.csv\")"
   ]
  },
  {
   "cell_type": "markdown",
   "id": "a61b3d2a",
   "metadata": {},
   "source": [
    "### 2. Visualizing the dataset"
   ]
  },
  {
   "cell_type": "code",
   "execution_count": 2,
   "id": "7d8532eb",
   "metadata": {},
   "outputs": [
    {
     "data": {
      "text/html": [
       "<div>\n",
       "<style scoped>\n",
       "    .dataframe tbody tr th:only-of-type {\n",
       "        vertical-align: middle;\n",
       "    }\n",
       "\n",
       "    .dataframe tbody tr th {\n",
       "        vertical-align: top;\n",
       "    }\n",
       "\n",
       "    .dataframe thead th {\n",
       "        text-align: right;\n",
       "    }\n",
       "</style>\n",
       "<table border=\"1\" class=\"dataframe\">\n",
       "  <thead>\n",
       "    <tr style=\"text-align: right;\">\n",
       "      <th></th>\n",
       "      <th>Species</th>\n",
       "      <th>Weight</th>\n",
       "      <th>Length1</th>\n",
       "      <th>Length2</th>\n",
       "      <th>Length3</th>\n",
       "      <th>Height</th>\n",
       "      <th>Width</th>\n",
       "    </tr>\n",
       "  </thead>\n",
       "  <tbody>\n",
       "    <tr>\n",
       "      <th>0</th>\n",
       "      <td>Bream</td>\n",
       "      <td>242.0</td>\n",
       "      <td>23.2</td>\n",
       "      <td>25.4</td>\n",
       "      <td>30.0</td>\n",
       "      <td>11.5200</td>\n",
       "      <td>4.0200</td>\n",
       "    </tr>\n",
       "    <tr>\n",
       "      <th>1</th>\n",
       "      <td>Bream</td>\n",
       "      <td>290.0</td>\n",
       "      <td>24.0</td>\n",
       "      <td>26.3</td>\n",
       "      <td>31.2</td>\n",
       "      <td>12.4800</td>\n",
       "      <td>4.3056</td>\n",
       "    </tr>\n",
       "    <tr>\n",
       "      <th>2</th>\n",
       "      <td>Bream</td>\n",
       "      <td>340.0</td>\n",
       "      <td>23.9</td>\n",
       "      <td>26.5</td>\n",
       "      <td>31.1</td>\n",
       "      <td>12.3778</td>\n",
       "      <td>4.6961</td>\n",
       "    </tr>\n",
       "    <tr>\n",
       "      <th>3</th>\n",
       "      <td>Bream</td>\n",
       "      <td>363.0</td>\n",
       "      <td>26.3</td>\n",
       "      <td>29.0</td>\n",
       "      <td>33.5</td>\n",
       "      <td>12.7300</td>\n",
       "      <td>4.4555</td>\n",
       "    </tr>\n",
       "    <tr>\n",
       "      <th>4</th>\n",
       "      <td>Bream</td>\n",
       "      <td>430.0</td>\n",
       "      <td>26.5</td>\n",
       "      <td>29.0</td>\n",
       "      <td>34.0</td>\n",
       "      <td>12.4440</td>\n",
       "      <td>5.1340</td>\n",
       "    </tr>\n",
       "  </tbody>\n",
       "</table>\n",
       "</div>"
      ],
      "text/plain": [
       "  Species  Weight  Length1  Length2  Length3   Height   Width\n",
       "0   Bream   242.0     23.2     25.4     30.0  11.5200  4.0200\n",
       "1   Bream   290.0     24.0     26.3     31.2  12.4800  4.3056\n",
       "2   Bream   340.0     23.9     26.5     31.1  12.3778  4.6961\n",
       "3   Bream   363.0     26.3     29.0     33.5  12.7300  4.4555\n",
       "4   Bream   430.0     26.5     29.0     34.0  12.4440  5.1340"
      ]
     },
     "execution_count": 2,
     "metadata": {},
     "output_type": "execute_result"
    }
   ],
   "source": [
    "data.head()"
   ]
  },
  {
   "cell_type": "code",
   "execution_count": 3,
   "id": "29dd78ab",
   "metadata": {},
   "outputs": [
    {
     "data": {
      "text/html": [
       "<div>\n",
       "<style scoped>\n",
       "    .dataframe tbody tr th:only-of-type {\n",
       "        vertical-align: middle;\n",
       "    }\n",
       "\n",
       "    .dataframe tbody tr th {\n",
       "        vertical-align: top;\n",
       "    }\n",
       "\n",
       "    .dataframe thead th {\n",
       "        text-align: right;\n",
       "    }\n",
       "</style>\n",
       "<table border=\"1\" class=\"dataframe\">\n",
       "  <thead>\n",
       "    <tr style=\"text-align: right;\">\n",
       "      <th></th>\n",
       "      <th>Species</th>\n",
       "      <th>Weight</th>\n",
       "      <th>Length1</th>\n",
       "      <th>Length2</th>\n",
       "      <th>Length3</th>\n",
       "      <th>Height</th>\n",
       "      <th>Width</th>\n",
       "    </tr>\n",
       "  </thead>\n",
       "  <tbody>\n",
       "    <tr>\n",
       "      <th>154</th>\n",
       "      <td>Smelt</td>\n",
       "      <td>12.2</td>\n",
       "      <td>11.5</td>\n",
       "      <td>12.2</td>\n",
       "      <td>13.4</td>\n",
       "      <td>2.0904</td>\n",
       "      <td>1.3936</td>\n",
       "    </tr>\n",
       "    <tr>\n",
       "      <th>155</th>\n",
       "      <td>Smelt</td>\n",
       "      <td>13.4</td>\n",
       "      <td>11.7</td>\n",
       "      <td>12.4</td>\n",
       "      <td>13.5</td>\n",
       "      <td>2.4300</td>\n",
       "      <td>1.2690</td>\n",
       "    </tr>\n",
       "    <tr>\n",
       "      <th>156</th>\n",
       "      <td>Smelt</td>\n",
       "      <td>12.2</td>\n",
       "      <td>12.1</td>\n",
       "      <td>13.0</td>\n",
       "      <td>13.8</td>\n",
       "      <td>2.2770</td>\n",
       "      <td>1.2558</td>\n",
       "    </tr>\n",
       "    <tr>\n",
       "      <th>157</th>\n",
       "      <td>Smelt</td>\n",
       "      <td>19.7</td>\n",
       "      <td>13.2</td>\n",
       "      <td>14.3</td>\n",
       "      <td>15.2</td>\n",
       "      <td>2.8728</td>\n",
       "      <td>2.0672</td>\n",
       "    </tr>\n",
       "    <tr>\n",
       "      <th>158</th>\n",
       "      <td>Smelt</td>\n",
       "      <td>19.9</td>\n",
       "      <td>13.8</td>\n",
       "      <td>15.0</td>\n",
       "      <td>16.2</td>\n",
       "      <td>2.9322</td>\n",
       "      <td>1.8792</td>\n",
       "    </tr>\n",
       "  </tbody>\n",
       "</table>\n",
       "</div>"
      ],
      "text/plain": [
       "    Species  Weight  Length1  Length2  Length3  Height   Width\n",
       "154   Smelt    12.2     11.5     12.2     13.4  2.0904  1.3936\n",
       "155   Smelt    13.4     11.7     12.4     13.5  2.4300  1.2690\n",
       "156   Smelt    12.2     12.1     13.0     13.8  2.2770  1.2558\n",
       "157   Smelt    19.7     13.2     14.3     15.2  2.8728  2.0672\n",
       "158   Smelt    19.9     13.8     15.0     16.2  2.9322  1.8792"
      ]
     },
     "execution_count": 3,
     "metadata": {},
     "output_type": "execute_result"
    }
   ],
   "source": [
    "data.tail()"
   ]
  },
  {
   "cell_type": "code",
   "execution_count": 4,
   "id": "0e144384",
   "metadata": {},
   "outputs": [
    {
     "data": {
      "text/plain": [
       "(159, 7)"
      ]
     },
     "execution_count": 4,
     "metadata": {},
     "output_type": "execute_result"
    }
   ],
   "source": [
    "data.shape"
   ]
  },
  {
   "cell_type": "code",
   "execution_count": 5,
   "id": "3c795d7a",
   "metadata": {},
   "outputs": [
    {
     "data": {
      "text/plain": [
       "Species    0\n",
       "Weight     0\n",
       "Length1    0\n",
       "Length2    0\n",
       "Length3    0\n",
       "Height     0\n",
       "Width      0\n",
       "dtype: int64"
      ]
     },
     "execution_count": 5,
     "metadata": {},
     "output_type": "execute_result"
    }
   ],
   "source": [
    "data.isnull().sum()"
   ]
  },
  {
   "cell_type": "markdown",
   "id": "317843e9",
   "metadata": {},
   "source": [
    "- no null values in our dataset so we can proceed further "
   ]
  },
  {
   "cell_type": "code",
   "execution_count": 6,
   "id": "0b20dc4d",
   "metadata": {},
   "outputs": [
    {
     "data": {
      "image/png": "[encoded data removed]",
      "text/plain": [
       "<Figure size 1080x432 with 6 Axes>"
      ]
     },
     "metadata": {
      "needs_background": "light"
     },
     "output_type": "display_data"
    }
   ],
   "source": [
    "data_num = data.drop(columns=[\"Species\"])\n",
    "\n",
    "fig, axes = plt.subplots(len(data_num.columns)//3, 3, figsize=(15, 6))\n",
    "i = 0\n",
    "for triaxis in axes:\n",
    "    for axis in triaxis:\n",
    "        data_num.hist(column = data_num.columns[i], ax=axis)\n",
    "        i = i+1"
   ]
  },
  {
   "cell_type": "markdown",
   "id": "262fcf86",
   "metadata": {},
   "source": [
    "This shows the distribution among the numerical features in dataset"
   ]
  },
  {
   "cell_type": "markdown",
   "id": "8eb6cab2",
   "metadata": {},
   "source": [
    "#### Let's check the distribution of target variable(weight) with respect to fish's species"
   ]
  },
  {
   "cell_type": "code",
   "execution_count": 7,
   "id": "8b5fb07e",
   "metadata": {},
   "outputs": [
    {
     "data": {
      "image/png": "[encoded data removed]",
      "text/plain": [
       "<Figure size 587.25x360 with 1 Axes>"
      ]
     },
     "metadata": {
      "needs_background": "light"
     },
     "output_type": "display_data"
    }
   ],
   "source": [
    "sns.displot(\n",
    "    data=data,\n",
    "    x = \"Weight\",\n",
    "    hue = \"Species\",\n",
    "    kind = \"hist\",\n",
    "    height = 5,\n",
    "    aspect = 1.4,\n",
    "    bins = 15\n",
    ")\n",
    "plt.show()"
   ]
  },
  {
   "cell_type": "markdown",
   "id": "22b9ec75",
   "metadata": {},
   "source": [
    "Target variable distribution of weight with respect to species shows that there are some species such as Pike that have huge weight compared to others. This visualization gives us additional information on how the “species” feature can be used for prediction."
   ]
  },
  {
   "cell_type": "markdown",
   "id": "0bde5c7c",
   "metadata": {},
   "source": [
    "### 3. Cleaning of data"
   ]
  },
  {
   "cell_type": "code",
   "execution_count": 8,
   "id": "069333b2",
   "metadata": {},
   "outputs": [
    {
     "name": "stdout",
     "output_type": "stream",
     "text": [
      "Requirement already satisfied: xgboost in c:\\users\\sahil\\anaconda3\\lib\\site-packages (1.7.6)\n",
      "Requirement already satisfied: numpy in c:\\users\\sahil\\anaconda3\\lib\\site-packages (from xgboost) (1.22.4)\n",
      "Requirement already satisfied: scipy in c:\\users\\sahil\\anaconda3\\lib\\site-packages (from xgboost) (1.7.3)\n",
      "Note: you may need to restart the kernel to use updated packages.\n"
     ]
    }
   ],
   "source": [
    "pip install xgboost"
   ]
  },
  {
   "cell_type": "code",
   "execution_count": 9,
   "id": "b374f383",
   "metadata": {},
   "outputs": [
    {
     "name": "stdout",
     "output_type": "stream",
     "text": [
      "(127, 6) (32, 6) (127,) (32,)\n"
     ]
    }
   ],
   "source": [
    "from sklearn.model_selection import train_test_split\n",
    "from sklearn.preprocessing import LabelEncoder\n",
    "from sklearn.tree import DecisionTreeRegressor\n",
    "from sklearn.ensemble import RandomForestRegressor\n",
    "import xgboost as xgb\n",
    "from sklearn.metrics import mean_squared_error, mean_absolute_error, r2_score\n",
    "data_cleaned  = data.drop(\"Weight\", axis=1)\n",
    "y = data['Weight']\n",
    "\n",
    "x_train, x_test, y_train, y_test = train_test_split(data_cleaned, y, test_size = 0.2,\n",
    "                                                   random_state=42)\n",
    "print(x_train.shape, x_test.shape, y_train.shape, y_test.shape)\n",
    "\n",
    "# label encoder\n",
    "label_encoder = LabelEncoder()\n",
    "x_train['Species'] = label_encoder.fit_transform(x_train['Species'].values)\n",
    "x_test['Species'] = label_encoder.transform(x_test['Species'].values)"
   ]
  },
  {
   "cell_type": "markdown",
   "id": "2725afcd",
   "metadata": {},
   "source": [
    "### 4. Training all 3 models"
   ]
  },
  {
   "cell_type": "code",
   "execution_count": 10,
   "id": "e63d03db",
   "metadata": {},
   "outputs": [
    {
     "name": "stdout",
     "output_type": "stream",
     "text": [
      "Decision_Tree (7005.89, 48.71, 0.95)\n",
      "Random_Forest (4659.44, 44.66, 0.97)\n",
      "XGboost_Regressor (5151.54, 41.05, 0.96)\n"
     ]
    }
   ],
   "source": [
    "def evaluation_model(pred, y_val):\n",
    "  score_MSE = round(mean_squared_error(pred, y_val),2)\n",
    "  score_MAE = round(mean_absolute_error(pred, y_val),2)\n",
    "  score_r2score = round(r2_score(pred, y_val),2)\n",
    "  return score_MSE, score_MAE, score_r2score\n",
    "def models_score(model_name, train_data, y_train, val_data,y_val):\n",
    "    model_list = [\"Decision_Tree\",\"Random_Forest\",\"XGboost_Regressor\"]\n",
    "    #model_1\n",
    "    if model_name==\"Decision_Tree\":\n",
    "        reg = DecisionTreeRegressor(random_state=42)\n",
    "    #model_2\n",
    "    elif model_name==\"Random_Forest\":\n",
    "      reg = RandomForestRegressor(random_state=42)\n",
    "        \n",
    "    #model_3\n",
    "    elif model_name==\"XGboost_Regressor\":\n",
    "        reg = xgb.XGBRegressor(objective=\"reg:squarederror\",random_state=42,)\n",
    "    else:\n",
    "        print(\"please enter correct regressor name\")\n",
    "        \n",
    "    if model_name in model_list:\n",
    "        reg.fit(train_data,y_train)\n",
    "        pred = reg.predict(val_data)\n",
    "     \n",
    "        score_MSE, score_MAE, score_r2score = evaluation_model(pred,y_val)\n",
    "        return round(score_MSE,2), round(score_MAE,2), round(score_r2score,2)\n",
    "model_list = [\"Decision_Tree\",\"Random_Forest\",\"XGboost_Regressor\"]\n",
    "result_scores = []\n",
    "for model in model_list:\n",
    "    score = models_score(model, x_train, y_train, x_test, y_test)\n",
    "    result_scores.append((model, score[0], score[1],score[2]))\n",
    "    print(model,score)"
   ]
  },
  {
   "cell_type": "markdown",
   "id": "8e813191",
   "metadata": {},
   "source": [
    "### 5. Displaying the scores"
   ]
  },
  {
   "cell_type": "code",
   "execution_count": 11,
   "id": "fb14c0d8",
   "metadata": {},
   "outputs": [
    {
     "data": {
      "text/html": [
       "<div>\n",
       "<style scoped>\n",
       "    .dataframe tbody tr th:only-of-type {\n",
       "        vertical-align: middle;\n",
       "    }\n",
       "\n",
       "    .dataframe tbody tr th {\n",
       "        vertical-align: top;\n",
       "    }\n",
       "\n",
       "    .dataframe thead th {\n",
       "        text-align: right;\n",
       "    }\n",
       "</style>\n",
       "<table border=\"1\" class=\"dataframe\">\n",
       "  <thead>\n",
       "    <tr style=\"text-align: right;\">\n",
       "      <th></th>\n",
       "      <th>model</th>\n",
       "      <th>mse</th>\n",
       "      <th>mae</th>\n",
       "      <th>r2_score</th>\n",
       "    </tr>\n",
       "  </thead>\n",
       "  <tbody>\n",
       "    <tr>\n",
       "      <th>0</th>\n",
       "      <td>Decision_Tree</td>\n",
       "      <td>7005.89</td>\n",
       "      <td>48.71</td>\n",
       "      <td>0.95</td>\n",
       "    </tr>\n",
       "    <tr>\n",
       "      <th>1</th>\n",
       "      <td>Random_Forest</td>\n",
       "      <td>4659.44</td>\n",
       "      <td>44.66</td>\n",
       "      <td>0.97</td>\n",
       "    </tr>\n",
       "    <tr>\n",
       "      <th>2</th>\n",
       "      <td>XGboost_Regressor</td>\n",
       "      <td>5151.54</td>\n",
       "      <td>41.05</td>\n",
       "      <td>0.96</td>\n",
       "    </tr>\n",
       "  </tbody>\n",
       "</table>\n",
       "</div>"
      ],
      "text/plain": [
       "               model      mse    mae  r2_score\n",
       "0      Decision_Tree  7005.89  48.71      0.95\n",
       "1      Random_Forest  4659.44  44.66      0.97\n",
       "2  XGboost_Regressor  5151.54  41.05      0.96"
      ]
     },
     "execution_count": 11,
     "metadata": {},
     "output_type": "execute_result"
    }
   ],
   "source": [
    "df_result_scores = pd.DataFrame(result_scores,columns = [\"model\",\"mse\",\"mae\", \"r2_score\"])\n",
    "df_result_scores"
   ]
  },
  {
   "cell_type": "markdown",
   "id": "898545eb",
   "metadata": {},
   "source": [
    "##### The results shows a very different result than linear models. The values of mse and mae are very low as compared to linear based models. This shows that all tree-based models are better than linear models in this type of dataset"
   ]
  },
  {
   "cell_type": "markdown",
   "id": "1bb310bc",
   "metadata": {},
   "source": [
    " ### 6. Hyperparameter tuning"
   ]
  },
  {
   "cell_type": "code",
   "execution_count": 12,
   "id": "7b7ffb34",
   "metadata": {},
   "outputs": [
    {
     "name": "stdout",
     "output_type": "stream",
     "text": [
      "Requirement already satisfied: hyperopt in c:\\users\\sahil\\anaconda3\\lib\\site-packages (0.2.7)\n",
      "Requirement already satisfied: py4j in c:\\users\\sahil\\anaconda3\\lib\\site-packages (from hyperopt) (0.10.9.7)\n",
      "Requirement already satisfied: networkx>=2.2 in c:\\users\\sahil\\anaconda3\\lib\\site-packages (from hyperopt) (2.7.1)\n",
      "Requirement already satisfied: numpy in c:\\users\\sahil\\anaconda3\\lib\\site-packages (from hyperopt) (1.22.4)\n",
      "Requirement already satisfied: future in c:\\users\\sahil\\anaconda3\\lib\\site-packages (from hyperopt) (0.18.2)\n",
      "Requirement already satisfied: tqdm in c:\\users\\sahil\\anaconda3\\lib\\site-packages (from hyperopt) (4.64.0)\n",
      "Requirement already satisfied: scipy in c:\\users\\sahil\\anaconda3\\lib\\site-packages (from hyperopt) (1.7.3)\n",
      "Requirement already satisfied: six in c:\\users\\sahil\\anaconda3\\lib\\site-packages (from hyperopt) (1.16.0)\n",
      "Requirement already satisfied: cloudpickle in c:\\users\\sahil\\anaconda3\\lib\\site-packages (from hyperopt) (2.0.0)\n",
      "Requirement already satisfied: colorama in c:\\users\\sahil\\anaconda3\\lib\\site-packages (from tqdm->hyperopt) (0.4.4)\n",
      "Note: you may need to restart the kernel to use updated packages.\n"
     ]
    }
   ],
   "source": [
    "pip install hyperopt"
   ]
  },
  {
   "cell_type": "code",
   "execution_count": 13,
   "id": "91f5d554",
   "metadata": {},
   "outputs": [
    {
     "name": "stdout",
     "output_type": "stream",
     "text": [
      "100%|████████████████████████████████████████████████| 200/200 [01:56<00:00,  1.71trial/s, best loss: 38.1540564471905]\n",
      "{'colsample_bytree': 0.8203687214298399, 'gamma': 2.770082660001186, 'max_depth': 12.0, 'min_child_weight': 1.0, 'n_estimators': 2, 'reg_alpha': 43.0, 'reg_lambda': 0.6364003313436989}\n"
     ]
    }
   ],
   "source": [
    "from hyperopt import hp\n",
    "from hyperopt import fmin, tpe, STATUS_OK, STATUS_FAIL, Trials\n",
    "from sklearn.model_selection import cross_val_score\n",
    "num_estimator = [100,150,200,250]\n",
    "\n",
    "space=  {'max_depth': hp.quniform(\"max_depth\", 3, 18, 1),\n",
    "        'gamma': hp.uniform ('gamma', 1,9),\n",
    "        'reg_alpha' : hp.quniform('reg_alpha', 30,180,1),\n",
    "        'reg_lambda' : hp.uniform('reg_lambda', 0,1),\n",
    "        'colsample_bytree' : hp.uniform('colsample_bytree', 0.5,1),\n",
    "        'min_child_weight' : hp.quniform('min_child_weight', 0, 10, 1),\n",
    "        'n_estimators': hp.choice(\"n_estimators\", num_estimator),\n",
    "    }\n",
    "\n",
    "def hyperparameter_tuning(space):\n",
    "    model=xgb.XGBRegressor(n_estimators = space['n_estimators'], max_depth = int(space['max_depth']), gamma = space['gamma'],\n",
    "                         reg_alpha = int(space['reg_alpha']) , min_child_weight=space['min_child_weight'],\n",
    "                         colsample_bytree=space['colsample_bytree'], objective=\"reg:squarederror\")\n",
    "    \n",
    "    score_cv = cross_val_score(model, x_train, y_train, cv=5, scoring=\"neg_mean_absolute_error\").mean()\n",
    "    return {'loss':-score_cv, 'status': STATUS_OK, 'model': model}\n",
    "\n",
    "\n",
    "trials = Trials()\n",
    "best = fmin(fn=hyperparameter_tuning,\n",
    "            space=space,\n",
    "            algo=tpe.suggest,\n",
    "            max_evals=200,\n",
    "            trials=trials)\n",
    "\n",
    "print(best)"
   ]
  },
  {
   "cell_type": "code",
   "execution_count": 25,
   "id": "a1c76f22",
   "metadata": {},
   "outputs": [
    {
     "data": {
      "text/plain": [
       "[{'loss': 52.191508596684386,\n",
       "  'status': 'ok',\n",
       "  'model': XGBRegressor(base_score=None, booster=None, callbacks=None,\n",
       "               colsample_bylevel=None, colsample_bynode=None,\n",
       "               colsample_bytree=0.519490129605568, early_stopping_rounds=None,\n",
       "               enable_categorical=False, eval_metric=None, feature_types=None,\n",
       "               gamma=7.189562594538164, gpu_id=None, grow_policy=None,\n",
       "               importance_type=None, interaction_constraints=None,\n",
       "               learning_rate=None, max_bin=None, max_cat_threshold=None,\n",
       "               max_cat_to_onehot=None, max_delta_step=None, max_depth=13,\n",
       "               max_leaves=None, min_child_weight=4.0, missing=nan,\n",
       "               monotone_constraints=None, n_estimators=250, n_jobs=None,\n",
       "               num_parallel_tree=None, predictor=None, random_state=None, ...)},\n",
       " {'loss': 46.35706025637113,\n",
       "  'status': 'ok',\n",
       "  'model': XGBRegressor(base_score=None, booster=None, callbacks=None,\n",
       "               colsample_bylevel=None, colsample_bynode=None,\n",
       "               colsample_bytree=0.5673742830804991, early_stopping_rounds=None,\n",
       "               enable_categorical=False, eval_metric=None, feature_types=None,\n",
       "               gamma=8.931329021234891, gpu_id=None, grow_policy=None,\n",
       "               importance_type=None, interaction_constraints=None,\n",
       "               learning_rate=None, max_bin=None, max_cat_threshold=None,\n",
       "               max_cat_to_onehot=None, max_delta_step=None, max_depth=12,\n",
       "               max_leaves=None, min_child_weight=3.0, missing=nan,\n",
       "               monotone_constraints=None, n_estimators=250, n_jobs=None,\n",
       "               num_parallel_tree=None, predictor=None, random_state=None, ...)}]"
      ]
     },
     "execution_count": 25,
     "metadata": {},
     "output_type": "execute_result"
    }
   ],
   "source": [
    "trials.results[0:2]"
   ]
  },
  {
   "cell_type": "code",
   "execution_count": 27,
   "id": "e414ef9e",
   "metadata": {},
   "outputs": [
    {
     "data": {
      "text/html": [
       "<div>\n",
       "<style scoped>\n",
       "    .dataframe tbody tr th:only-of-type {\n",
       "        vertical-align: middle;\n",
       "    }\n",
       "\n",
       "    .dataframe tbody tr th {\n",
       "        vertical-align: top;\n",
       "    }\n",
       "\n",
       "    .dataframe thead th {\n",
       "        text-align: right;\n",
       "    }\n",
       "</style>\n",
       "<table border=\"1\" class=\"dataframe\">\n",
       "  <thead>\n",
       "    <tr style=\"text-align: right;\">\n",
       "      <th></th>\n",
       "      <th>model</th>\n",
       "      <th>mse</th>\n",
       "      <th>mae</th>\n",
       "      <th>r2_score</th>\n",
       "    </tr>\n",
       "  </thead>\n",
       "  <tbody>\n",
       "    <tr>\n",
       "      <th>0</th>\n",
       "      <td>Decision_Tree</td>\n",
       "      <td>7005.89</td>\n",
       "      <td>48.71</td>\n",
       "      <td>0.95</td>\n",
       "    </tr>\n",
       "    <tr>\n",
       "      <th>1</th>\n",
       "      <td>Random_Forest</td>\n",
       "      <td>4659.44</td>\n",
       "      <td>44.66</td>\n",
       "      <td>0.97</td>\n",
       "    </tr>\n",
       "    <tr>\n",
       "      <th>2</th>\n",
       "      <td>XGboost_Regressor</td>\n",
       "      <td>5151.54</td>\n",
       "      <td>41.05</td>\n",
       "      <td>0.96</td>\n",
       "    </tr>\n",
       "    <tr>\n",
       "      <th>3</th>\n",
       "      <td>XGboost_hyper_tuned</td>\n",
       "      <td>2755.94</td>\n",
       "      <td>36.02</td>\n",
       "      <td>0.98</td>\n",
       "    </tr>\n",
       "  </tbody>\n",
       "</table>\n",
       "</div>"
      ],
      "text/plain": [
       "                 model      mse    mae  r2_score\n",
       "0        Decision_Tree  7005.89  48.71      0.95\n",
       "1        Random_Forest  4659.44  44.66      0.97\n",
       "2    XGboost_Regressor  5151.54  41.05      0.96\n",
       "3  XGboost_hyper_tuned  2755.94  36.02      0.98"
      ]
     },
     "execution_count": 27,
     "metadata": {},
     "output_type": "execute_result"
    }
   ],
   "source": [
    "reg = xgb.XGBRegressor(**best)\n",
    "reg.fit(x_train,y_train)\n",
    "pred = reg.predict(x_test)\n",
    "score_MSE, score_MAE, score_r2score = evaluation_model(pred,y_test) \n",
    "to_append = [\"XGboost_hyper_tuned\",score_MSE, score_MAE, score_r2score]\n",
    "df_result_scores.loc[len(df_result_scores)] = to_append\n",
    "df_result_scores"
   ]
  },
  {
   "cell_type": "markdown",
   "id": "83e66ac6",
   "metadata": {},
   "source": [
    "There is a huge difference in mse and mae scores of XGboost_hyper_tuned model even if compared with the best linear based model. This shows that tree based models should be preferable as compared to linear based models when working with this kind of databases"
   ]
  },
  {
   "cell_type": "markdown",
   "id": "16eb06e4",
   "metadata": {},
   "source": [
    "### 7. Chossing the best model and making prediction"
   ]
  },
  {
   "cell_type": "code",
   "execution_count": 17,
   "id": "3739a010",
   "metadata": {},
   "outputs": [
    {
     "data": {
      "image/png": "[encoded data removed]",
      "text/plain": [
       "<Figure size 1296x504 with 2 Axes>"
      ]
     },
     "metadata": {
      "needs_background": "light"
     },
     "output_type": "display_data"
    }
   ],
   "source": [
    "reg = xgb.XGBRegressor(**best)\n",
    "reg.fit(x_train,y_train)\n",
    "pred = reg.predict(x_test)\n",
    "plt.figure(figsize=(18,7))\n",
    "plt.subplot(1, 2, 1) # row 1, col 2 index 1\n",
    "plt.scatter(range(0,len(x_test)), pred,color=\"green\",label=\"predicted\")\n",
    "plt.scatter(range(0,len(x_test)), y_test,color=\"red\",label=\"True value\")\n",
    "plt.legend()\n",
    "\n",
    "plt.subplot(1, 2, 2) # index 2\n",
    "plt.plot(range(0,len(x_test)), pred,color=\"green\",label=\"predicted\")\n",
    "plt.plot(range(0,len(x_test)), y_test,color=\"red\",label=\"True value\")\n",
    "plt.legend()\n",
    "plt.show()"
   ]
  },
  {
   "cell_type": "markdown",
   "id": "bdf33d2f",
   "metadata": {},
   "source": [
    "##### The predicition is quite accurate as the true values are not far enough with our predicted values. This concludes our prediction model."
   ]
  }
 ],
 "metadata": {
  "kernelspec": {
   "display_name": "Python 3 (ipykernel)",
   "language": "python",
   "name": "python3"
  },
  "language_info": {
   "codemirror_mode": {
    "name": "ipython",
    "version": 3
   },
   "file_extension": ".py",
   "mimetype": "text/x-python",
   "name": "python",
   "nbconvert_exporter": "python",
   "pygments_lexer": "ipython3",
   "version": "3.9.12"
  }
 },
 "nbformat": 4,
 "nbformat_minor": 5
}
